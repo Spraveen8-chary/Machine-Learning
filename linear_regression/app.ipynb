{
 "cells": [
  {
   "cell_type": "markdown",
   "metadata": {},
   "source": [
    "<h2 style=\"color : red\">Linear Regression from scratch using python</h2>"
   ]
  },
  {
   "cell_type": "markdown",
   "metadata": {},
   "source": [
    "<h4>Sample Example on Iris Dataset</h4>"
   ]
  },
  {
   "cell_type": "code",
   "execution_count": 18,
   "metadata": {},
   "outputs": [],
   "source": [
    "import numpy as np\n",
    "import pandas as pd\n",
    "import matplotlib.pyplot as plt\n",
    "from sklearn.model_selection import train_test_split\n",
    "from sklearn.datasets import load_iris\n",
    "from sklearn.preprocessing import StandardScaler"
   ]
  },
  {
   "cell_type": "markdown",
   "metadata": {},
   "source": [
    "<h2>Linear line equation</h2>"
   ]
  },
  {
   "cell_type": "markdown",
   "metadata": {},
   "source": [
    "<img src=\"linear_equation.png\" >"
   ]
  },
  {
   "cell_type": "markdown",
   "metadata": {},
   "source": [
    "<center><h3><b>Binary Cross Entropy</b></h3>\n",
    "<img src=\"mse.png\" height = \"400\" width = \"700\"></center>"
   ]
  },
  {
   "cell_type": "code",
   "execution_count": 19,
   "metadata": {},
   "outputs": [],
   "source": [
    "import numpy as np\n",
    "\n",
    "class LinearRegression:\n",
    "    '''\n",
    "    Implementation of Linear Regression from scratch using python.\n",
    "    Attributes:\n",
    "    learning_rate : This attribute is used for gradient descent as learning rate to train the model.\n",
    "    iterations : Used for training the models, it's also known as epochs.\n",
    "    formula : f(x) = M.X + C\n",
    "    X : This variable consists of independent variables data from the dataset.\n",
    "    y : This consists of dependent variable data from the dataset.\n",
    "    rows : Number of rows in the dataset.\n",
    "    cols : Number of columns in the dataset.\n",
    "    weights : Slope i.e: \"M\" in formula.\n",
    "    bias : Intercept i.e: \"C\" in formula.\n",
    "    losses : A list to keep track of the loss during training.\n",
    "    '''\n",
    "    def __init__(self, learning_rate=0.01, iterations=1000):\n",
    "        self.learning_rate = learning_rate\n",
    "        self.iterations = iterations\n",
    "        self.losses = []\n",
    "    \n",
    "    # Passing dataset to model\n",
    "    def fit(self, X, y):\n",
    "        # Number of rows and columns in the dataset.\n",
    "        self.rows, self.cols = X.shape\n",
    "        # Initializing weights to zero to train model from origin\n",
    "        self.weights = np.zeros(self.cols)\n",
    "        # Initializing bias \"C\" in formula\n",
    "        self.bias = 0\n",
    "\n",
    "        self.X = X\n",
    "        self.y = y\n",
    "\n",
    "        # Implementing gradient descent\n",
    "        for i in range(self.iterations):\n",
    "            self.update_weights()\n",
    "            loss = self.calculate_loss()\n",
    "            self.losses.append(loss)\n",
    "            if i % 100 == 0:  \n",
    "                print(f\"Iteration {i}: Weights: {self.weights}, Bias: {self.bias}, Loss: {loss}\")\n",
    "\n",
    "        return self\n",
    "     \n",
    "    def update_weights(self):\n",
    "        Y_pred = self.predict(self.X)\n",
    "        # Implementing derivatives to weight and bias\n",
    "        derivative_weight = - (2 * (self.X.T).dot(self.y - Y_pred)) / self.rows\n",
    "        derivative_bias = - 2 * np.sum(self.y - Y_pred) / self.rows\n",
    "\n",
    "        # Updating weights\n",
    "        self.weights = self.weights - self.learning_rate * derivative_weight\n",
    "        self.bias = self.bias - self.learning_rate * derivative_bias\n",
    "\n",
    "        return self\n",
    "    \n",
    "    # Implementing 'f(x)' line formula \n",
    "    def predict(self, X):\n",
    "        return X.dot(self.weights) + self.bias\n",
    "    \n",
    "    # Calculate mean squared error loss\n",
    "    def calculate_loss(self):\n",
    "        Y_pred = self.predict(self.X)\n",
    "        loss = np.mean((self.y - Y_pred) ** 2)\n",
    "        return loss\n"
   ]
  },
  {
   "cell_type": "markdown",
   "metadata": {},
   "source": [
    "<h4>Using Iris dataset for Testing</h4>"
   ]
  },
  {
   "cell_type": "code",
   "execution_count": 20,
   "metadata": {},
   "outputs": [],
   "source": [
    "iris = load_iris()\n",
    "df = pd.DataFrame(data=iris.data, columns=iris.feature_names)\n",
    "df['target'] = iris.target"
   ]
  },
  {
   "cell_type": "code",
   "execution_count": 21,
   "metadata": {},
   "outputs": [],
   "source": [
    "# Using required features\n",
    "X = df[['petal length (cm)']].values\n",
    "y = df['petal width (cm)'].values"
   ]
  },
  {
   "cell_type": "code",
   "execution_count": 22,
   "metadata": {},
   "outputs": [],
   "source": [
    "# Normalize the features\n",
    "scaler = StandardScaler()\n",
    "X = scaler.fit_transform(X)"
   ]
  },
  {
   "cell_type": "code",
   "execution_count": 23,
   "metadata": {},
   "outputs": [
    {
     "name": "stdout",
     "output_type": "stream",
     "text": [
      "\n",
      "X_train: 120\n",
      "X_test: 30\n",
      "y_train: 120\n",
      "y_test: 30\n",
      "\n"
     ]
    }
   ],
   "source": [
    "X_train, X_test, y_train, y_test = train_test_split(X, y, test_size=0.2, random_state=0)\n",
    "print(f\"\"\"\n",
    "X_train: {len(X_train)}\n",
    "X_test: {len(X_test)}\n",
    "y_train: {len(y_train)}\n",
    "y_test: {len(y_test)}\n",
    "\"\"\")\n"
   ]
  },
  {
   "cell_type": "code",
   "execution_count": 28,
   "metadata": {},
   "outputs": [
    {
     "name": "stdout",
     "output_type": "stream",
     "text": [
      "Iteration 0: Weights: [0.01462964], Bias: 0.023986666666666673, Loss: 1.937384078777455\n",
      "Iteration 100: Weights: [0.63641316], Bias: 1.043459380377622, Loss: 0.07540203933933817\n",
      "Iteration 200: Weights: [0.71887381], Bias: 1.1786613989167876, Loss: 0.042653598648888055\n",
      "Iteration 300: Weights: [0.72980971], Bias: 1.1965918305715253, Loss: 0.04207762082260378\n",
      "Iteration 400: Weights: [0.73126002], Bias: 1.198969756454578, Loss: 0.042067490555349016\n",
      "Iteration 500: Weights: [0.73145236], Bias: 1.1992851159291393, Loss: 0.04206731238474943\n",
      "Iteration 600: Weights: [0.73147787], Bias: 1.1993269387626029, Loss: 0.042067309251094434\n",
      "Iteration 700: Weights: [0.73148125], Bias: 1.199332485288203, Loss: 0.04206730919597988\n",
      "Iteration 800: Weights: [0.7314817], Bias: 1.199333220865965, Loss: 0.042067309195010526\n",
      "Iteration 900: Weights: [0.73148176], Bias: 1.1993333184179609, Loss: 0.0420673091949935\n"
     ]
    },
    {
     "data": {
      "text/plain": [
       "<__main__.LinearRegression at 0x1cabb002010>"
      ]
     },
     "execution_count": 28,
     "metadata": {},
     "output_type": "execute_result"
    }
   ],
   "source": [
    "model = LinearRegression(iterations=1000, learning_rate=0.01)\n",
    "model.fit(X, y)"
   ]
  },
  {
   "cell_type": "code",
   "execution_count": 29,
   "metadata": {},
   "outputs": [
    {
     "data": {
      "text/plain": [
       "array([0, 0, 0, 0, 0, 0, 0, 0, 0, 0, 0, 0, 0, 0, 0, 0, 0, 0, 0, 0, 0, 0,\n",
       "       0, 0, 0, 0, 0, 0, 0, 0], dtype=int64)"
      ]
     },
     "execution_count": 29,
     "metadata": {},
     "output_type": "execute_result"
    }
   ],
   "source": [
    "y_preds = model.predict(X_test)\n",
    "np.ravel([np.argmax(i) for i in y_preds])"
   ]
  },
  {
   "cell_type": "code",
   "execution_count": 30,
   "metadata": {},
   "outputs": [
    {
     "data": {
      "image/png": "[encoded data removed]",
      "text/plain": [
       "<Figure size 640x480 with 1 Axes>"
      ]
     },
     "metadata": {},
     "output_type": "display_data"
    }
   ],
   "source": [
    "plt.scatter(X_test, y_test, color='blue', label='Actual')\n",
    "plt.plot(X_test, y_preds, color='red', linewidth=2, label='Predicted')\n",
    "plt.title('Petal Length vs Petal Width')\n",
    "plt.xlabel('Petal Length (standardized)')\n",
    "plt.ylabel('Petal Width')\n",
    "plt.legend()\n",
    "plt.show()"
   ]
  },
  {
   "cell_type": "code",
   "execution_count": 27,
   "metadata": {},
   "outputs": [
    {
     "name": "stdout",
     "output_type": "stream",
     "text": [
      "\n",
      "    Implementation of Linear Regression from scratch using python.\n",
      "    Attributes:\n",
      "    learning_rate : This attribute is used for gradient descent as learning rate to train the model.\n",
      "    iterations : Used for training the models, it's also known as epochs.\n",
      "    formula : f(x) = M.X + C\n",
      "    X : This variable consists of independent variables data from the dataset.\n",
      "    y : This consists of dependent variable data from the dataset.\n",
      "    rows : Number of rows in the dataset.\n",
      "    cols : Number of columns in the dataset.\n",
      "    weights : Slope i.e: \"M\" in formula.\n",
      "    bias : Intercept i.e: \"C\" in formula.\n",
      "    losses : A list to keep track of the loss during training.\n",
      "    \n"
     ]
    }
   ],
   "source": [
    "print(model.__doc__)"
   ]
  },
  {
   "cell_type": "code",
   "execution_count": null,
   "metadata": {},
   "outputs": [],
   "source": []
  }
 ],
 "metadata": {
  "kernelspec": {
   "display_name": "Python 3",
   "language": "python",
   "name": "python3"
  },
  "language_info": {
   "codemirror_mode": {
    "name": "ipython",
    "version": 3
   },
   "file_extension": ".py",
   "mimetype": "text/x-python",
   "name": "python",
   "nbconvert_exporter": "python",
   "pygments_lexer": "ipython3",
   "version": "3.11.5"
  }
 },
 "nbformat": 4,
 "nbformat_minor": 2
}
