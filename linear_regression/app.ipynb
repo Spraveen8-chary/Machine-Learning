{
 "cells": [
  {
   "cell_type": "markdown",
   "metadata": {},
   "source": [
    "<h2 style=\"color : red\">Linear Regression from scratch using python</h2>"
   ]
  },
  {
   "cell_type": "markdown",
   "metadata": {},
   "source": [
    "<h4>Sample Example on Iris Dataset</h4>"
   ]
  },
  {
   "cell_type": "code",
   "execution_count": 1,
   "metadata": {},
   "outputs": [],
   "source": [
    "import numpy as np\n",
    "import pandas as pd\n",
    "import matplotlib.pyplot as plt\n",
    "from sklearn.model_selection import train_test_split\n",
    "from sklearn.datasets import load_iris\n",
    "from sklearn.preprocessing import StandardScaler"
   ]
  },
  {
   "cell_type": "markdown",
   "metadata": {},
   "source": [
    "<h2>Linear line equation</h2>"
   ]
  },
{

"cell_type": "markdown",

"metadata": {},
"source": [
"<img src="\Screenshot_2024-07-06-23-01-14-91_320a9a695de7cdce83ed5281148d6f19.jpg\" >"
] 
},
 
  {
   "cell_type": "code",
   "execution_count": 2,
   "metadata": {},
   "outputs": [],
   "source": [
    "# Creating a class for linear regression\n",
    "class LinearRegression:\n",
    "    '''\n",
    "    Implementation of Linear Regression from scratch using python.\n",
    "    Attributes:\n",
    "    learning_rate : This attribute is used for gradient descent as learning rate to train the model.\n",
    "    iterations : Used for training the models, it's also known as epochs.\n",
    "    formula : f(x) = M.X + C\n",
    "    X = This variable consists of independent variables data from the dataset 'M(slope), X, C(intercept).\n",
    "    y = This consists of dependent variable data from variable 'f(x)'.\n",
    "    rows = Number of rows in the dataset.\n",
    "    cols = Number of columns in the dataset.\n",
    "    weights : Slope i.e: \"M\" in formula.\n",
    "    '''\n",
    "    def __init__(self, learning_rate=0.01, iterations=1000):\n",
    "        self.learning_rate = learning_rate\n",
    "        self.iterations = iterations\n",
    "    \n",
    "    # Passing dataset to model\n",
    "    def fit(self, X, y):\n",
    "        # Number of rows and columns in the dataset.\n",
    "        self.rows, self.cols = X.shape\n",
    "        # Initializing weights to zero to train model from origin\n",
    "        self.weights = np.zeros(self.cols)\n",
    "        # Initializing bias \"C\" in formula\n",
    "        self.bias = 0\n",
    "\n",
    "        self.X = X\n",
    "        self.y = y\n",
    "\n",
    "        # Implementing gradient descent\n",
    "        for i in range(self.iterations):\n",
    "            self.update_weights()\n",
    "            if i % 100 == 0:  \n",
    "                print(f\"Iteration {i}: Weights: {self.weights}, Bias: {self.bias}\")\n",
    "\n",
    "        return self\n",
    "    \n",
    "    def update_weights(self):\n",
    "        Y_pred = self.predict(self.X)\n",
    "        # Implementing derivatives to weight and bias\n",
    "        derivative_weight = - (2 * (self.X.T).dot(self.y - Y_pred)) / self.rows\n",
    "        derivative_bias = - 2 * np.sum(self.y - Y_pred) / self.rows\n",
    "\n",
    "        # Updating weights\n",
    "        self.weights = self.weights - self.learning_rate * derivative_weight\n",
    "        self.bias = self.bias - self.learning_rate * derivative_bias\n",
    "\n",
    "        return self\n",
    "    \n",
    "    # Implementing 'f(x)' line formula \n",
    "    def predict(self, X):\n",
    "        return X.dot(self.weights) + self.bias\n",
    "    \n",
    "    "
   ]
  },
  {
   "cell_type": "markdown",
   "metadata": {},
   "source": [
    "<h4>Using Iris dataset for Testing</h4>"
   ]
  },
  {
   "cell_type": "code",
   "execution_count": 3,
   "metadata": {},
   "outputs": [],
   "source": [
    "iris = load_iris()\n",
    "df = pd.DataFrame(data=iris.data, columns=iris.feature_names)\n",
    "df['target'] = iris.target"
   ]
  },
  {
   "cell_type": "code",
   "execution_count": 4,
   "metadata": {},
   "outputs": [],
   "source": [
    "# Using required features\n",
    "X = df[['petal length (cm)']].values\n",
    "y = df['petal width (cm)'].values"
   ]
  },
  {
   "cell_type": "code",
   "execution_count": 5,
   "metadata": {},
   "outputs": [],
   "source": [
    "# Normalize the features\n",
    "scaler = StandardScaler()\n",
    "X = scaler.fit_transform(X)"
   ]
  },
  {
   "cell_type": "code",
   "execution_count": 6,
   "metadata": {},
   "outputs": [
    {
     "name": "stdout",
     "output_type": "stream",
     "text": [
      "\n",
      "X_train: 120\n",
      "X_test: 30\n",
      "y_train: 120\n",
      "y_test: 30\n",
      "\n"
     ]
    }
   ],
   "source": [
    "X_train, X_test, y_train, y_test = train_test_split(X, y, test_size=0.2, random_state=0)\n",
    "print(f\"\"\"\n",
    "X_train: {len(X_train)}\n",
    "X_test: {len(X_test)}\n",
    "y_train: {len(y_train)}\n",
    "y_test: {len(y_test)}\n",
    "\"\"\")\n"
   ]
  },
  {
   "cell_type": "code",
   "execution_count": 11,
   "metadata": {},
   "outputs": [
    {
     "name": "stdout",
     "output_type": "stream",
     "text": [
      "Iteration 0: Weights: [0.00159143], Bias: 0.002463333333333333\n",
      "Iteration 100: Weights: [0.14465041], Bias: 0.22502032685190368\n",
      "Iteration 200: Weights: [0.26005059], Bias: 0.40643225125062865\n",
      "Iteration 300: Weights: [0.35312933], Bias: 0.5543122878423677\n",
      "Iteration 400: Weights: [0.42819581], Bias: 0.6748637492414236\n",
      "Iteration 500: Weights: [0.48872876], Bias: 0.7731413840136444\n",
      "Iteration 600: Weights: [0.53753626], Bias: 0.8532642124392168\n",
      "Iteration 700: Weights: [0.57688483], Bias: 0.9185888907986108\n",
      "Iteration 800: Weights: [0.6086037], Bias: 0.9718509301111635\n",
      "Iteration 900: Weights: [0.63416901], Bias: 1.0152797345207307\n"
     ]
    },
    {
     "data": {
      "text/plain": [
       "<__main__.LinearRegression at 0x2112844a990>"
      ]
     },
     "execution_count": 11,
     "metadata": {},
     "output_type": "execute_result"
    }
   ],
   "source": [
    "model = LinearRegression(iterations=1000, learning_rate=0.001)\n",
    "model.fit(X_train, y_train)\n"
   ]
  },
  {
   "cell_type": "code",
   "execution_count": 12,
   "metadata": {},
   "outputs": [
    {
     "data": {
      "text/plain": [
       "array([0, 0, 0, 0, 0, 0, 0, 0, 0, 0, 0, 0, 0, 0, 0, 0, 0, 0, 0, 0, 0, 0,\n",
       "       0, 0, 0, 0, 0, 0, 0, 0], dtype=int64)"
      ]
     },
     "execution_count": 12,
     "metadata": {},
     "output_type": "execute_result"
    }
   ],
   "source": [
    "y_preds = model.predict(X_test)\n",
    "\n",
    "np.ravel([np.argmax(i) for i in y_preds])"
   ]
  },
  {
   "cell_type": "code",
   "execution_count": 13,
   "metadata": {},
   "outputs": [
    {
     "data": {
      "image/png": "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",
      "text/plain": [
       "<Figure size 640x480 with 1 Axes>"
      ]
     },
     "metadata": {},
     "output_type": "display_data"
    }
   ],
   "source": [
    "plt.scatter(X_test, y_test, color='blue', label='Actual')\n",
    "plt.plot(X_test, y_preds, color='red', linewidth=2, label='Predicted')\n",
    "plt.title('Petal Length vs Petal Width')\n",
    "plt.xlabel('Petal Length (standardized)')\n",
    "plt.ylabel('Petal Width')\n",
    "plt.legend()\n",
    "plt.show()"
   ]
  },
  {
   "cell_type": "code",
   "execution_count": 10,
   "metadata": {},
   "outputs": [
    {
     "name": "stdout",
     "output_type": "stream",
     "text": [
      "\n",
      "    Implementation of Linear Regression from scratch using python.\n",
      "    Attributes:\n",
      "    learning_rate : This attribute is used for gradient descent as learning rate to train the model.\n",
      "    iterations : Used for training the models, it's also known as epochs.\n",
      "    formula : f(x) = M.X + C\n",
      "    X = This variable consists of independent variables data from the dataset 'M(slope), X, C(intercept).\n",
      "    y = This consists of dependent variable data from variable 'f(x)'.\n",
      "    rows = Number of rows in the dataset.\n",
      "    cols = Number of columns in the dataset.\n",
      "    weights : Slope i.e: \"M\" in formula.\n",
      "    \n"
     ]
    }
   ],
   "source": [
    "print(model.__doc__)"
   ]
  }
 ],
 "metadata": {
  "kernelspec": {
   "display_name": "Python 3",
   "language": "python",
   "name": "python3"
  },
  "language_info": {
   "codemirror_mode": {
    "name": "ipython",
    "version": 3
   },
   "file_extension": ".py",
   "mimetype": "text/x-python",
   "name": "python",
   "nbconvert_exporter": "python",
   "pygments_lexer": "ipython3",
   "version": "3.11.5"
  }
 },
 "nbformat": 4,
 "nbformat_minor": 2
}
